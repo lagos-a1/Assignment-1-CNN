{
  "nbformat": 4,
  "nbformat_minor": 0,
  "metadata": {
    "colab": {
      "name": "Untitled14.ipynb",
      "provenance": [],
      "toc_visible": true,
      "authorship_tag": "ABX9TyOr4x3rTd7zcwtXkxHpaKaN",
      "include_colab_link": true
    },
    "kernelspec": {
      "name": "python3",
      "display_name": "Python 3"
    }
  },
  "cells": [
    {
      "cell_type": "markdown",
      "metadata": {
        "id": "view-in-github",
        "colab_type": "text"
      },
      "source": [
        "<a href=\"https://colab.research.google.com/github/lagos-a1/Assignment-1-CNN/blob/master/Untitled14.ipynb\" target=\"_parent\"><img src=\"https://colab.research.google.com/assets/colab-badge.svg\" alt=\"Open In Colab\"/></a>"
      ]
    },
    {
      "cell_type": "markdown",
      "metadata": {
        "id": "k3fIw6yI4JaB",
        "colab_type": "text"
      },
      "source": [
        "**42028 Deep Learning and Convolutional Neural Network**\n",
        "\n",
        "Assignmet 1\n",
        "\n",
        "Andres Felipe Lagos 13092248"
      ]
    },
    {
      "cell_type": "code",
      "metadata": {
        "id": "XXa6uCGrnV7Y",
        "colab_type": "code",
        "outputId": "d42e4ef0-5bf2-4d75-82ea-68a58aa66e23",
        "colab": {
          "base_uri": "https://localhost:8080/",
          "height": 35
        }
      },
      "source": [
        "import numpy as np\n",
        "import pandas as pd\n",
        "from matplotlib import pyplot as plt\n",
        "from sklearn.model_selection import train_test_split, KFold, cross_val_score, GridSearchCV\n",
        "from sklearn.neighbors import KNeighborsClassifier\n",
        "from sklearn.metrics import confusion_matrix\n",
        "from sklearn.metrics import classification_report\n",
        "from sklearn.metrics import confusion_matrix\n",
        "import seaborn as sns\n",
        "from sklearn.svm import SVC\n",
        "from sklearn.model_selection import GridSearchCV \n",
        "import gzip\n",
        "\n",
        "from keras.models import Sequential # ANN Architecture\n",
        "from keras.layers import Dense #The layers in the ANN\n",
        "from keras.utils import to_categorical\n",
        "\n",
        "#HoG\n",
        "from skimage.transform import resize\n",
        "from skimage.feature import hog\n",
        "from skimage import exposure\n",
        "from sklearn import preprocessing"
      ],
      "execution_count": 1,
      "outputs": [
        {
          "output_type": "stream",
          "text": [
            "Using TensorFlow backend.\n"
          ],
          "name": "stderr"
        }
      ]
    },
    {
      "cell_type": "markdown",
      "metadata": {
        "id": "GyVEcGZK-bZz",
        "colab_type": "text"
      },
      "source": [
        "## **Importing the dataset**"
      ]
    },
    {
      "cell_type": "code",
      "metadata": {
        "id": "6i_Q-SrZUN5J",
        "colab_type": "code",
        "outputId": "421e5691-48bd-40e4-b2fb-dbdbfb8d8faf",
        "colab": {
          "base_uri": "https://localhost:8080/",
          "height": 35
        }
      },
      "source": [
        "from google.colab import drive\n",
        "drive.mount('/content/gdrive')"
      ],
      "execution_count": 2,
      "outputs": [
        {
          "output_type": "stream",
          "text": [
            "Drive already mounted at /content/gdrive; to attempt to forcibly remount, call drive.mount(\"/content/gdrive\", force_remount=True).\n"
          ],
          "name": "stdout"
        }
      ]
    },
    {
      "cell_type": "code",
      "metadata": {
        "id": "GevslFiSbx4e",
        "colab_type": "code",
        "outputId": "47302eb0-3fbc-445f-ae0d-8f96bd64026f",
        "colab": {
          "base_uri": "https://localhost:8080/",
          "height": 35
        }
      },
      "source": [
        "cd /content/gdrive/My Drive/Assignment 1 CNN"
      ],
      "execution_count": 3,
      "outputs": [
        {
          "output_type": "stream",
          "text": [
            "/content/gdrive/My Drive/Assignment 1 CNN\n"
          ],
          "name": "stdout"
        }
      ]
    },
    {
      "cell_type": "code",
      "metadata": {
        "id": "5FBvN-NV7j8q",
        "colab_type": "code",
        "colab": {}
      },
      "source": [
        "#Reading Train Images \n",
        "train_images = gzip.open('train-images-idx3-ubyte.gz')"
      ],
      "execution_count": 0,
      "outputs": []
    },
    {
      "cell_type": "code",
      "metadata": {
        "id": "z7Q4EMtDK0Xs",
        "colab_type": "code",
        "colab": {}
      },
      "source": [
        "image_size = 28\n",
        "num_images_train = 60000\n",
        "\n",
        "train_images.read(16)\n",
        "buf_train = train_images.read(image_size * image_size * num_images_train)\n",
        "data_train = np.frombuffer(buf_train, dtype=np.uint8).astype(np.float32)\n",
        "data_train = data_train.reshape(num_images_train, image_size, image_size)\n",
        "data_train_1 = data_train.reshape(num_images_train, image_size, image_size)\n",
        "data_train = data_train.reshape(60000,-1)"
      ],
      "execution_count": 0,
      "outputs": []
    },
    {
      "cell_type": "code",
      "metadata": {
        "id": "hmelXBcOIxZT",
        "colab_type": "code",
        "outputId": "d8810053-04e3-41ff-e713-5fcfd54a2447",
        "colab": {
          "base_uri": "https://localhost:8080/",
          "height": 88
        }
      },
      "source": [
        "print (data_train.shape)\n",
        "print (data_train.ndim)\n",
        "print (data_train_1.shape)\n",
        "print (data_train_1.ndim)"
      ],
      "execution_count": 6,
      "outputs": [
        {
          "output_type": "stream",
          "text": [
            "(60000, 784)\n",
            "2\n",
            "(60000, 28, 28)\n",
            "3\n"
          ],
          "name": "stdout"
        }
      ]
    },
    {
      "cell_type": "code",
      "metadata": {
        "id": "AaQTOxhuU5uo",
        "colab_type": "code",
        "outputId": "d6991da9-45fa-470c-f82d-ab23ef41155d",
        "colab": {
          "base_uri": "https://localhost:8080/",
          "height": 265
        }
      },
      "source": [
        "image = np.asarray(data_train[2].reshape((28,28)))\n",
        "plt.imshow(image, cmap='Greys')\n",
        "plt.show()\n"
      ],
      "execution_count": 6,
      "outputs": [
        {
          "output_type": "display_data",
          "data": {
            "image/png": "[encoded data removed]",
            "text/plain": [
              "<Figure size 432x288 with 1 Axes>"
            ]
          },
          "metadata": {
            "tags": []
          }
        }
      ]
    },
    {
      "cell_type": "code",
      "metadata": {
        "id": "lxJEOjghLNzN",
        "colab_type": "code",
        "outputId": "12a24b12-ac21-440f-c183-52adfb5c4e21",
        "colab": {
          "base_uri": "https://localhost:8080/",
          "height": 53
        }
      },
      "source": [
        "# Values for image 3 \n",
        "print(image.shape)\n",
        "print(image.ndim)"
      ],
      "execution_count": 7,
      "outputs": [
        {
          "output_type": "stream",
          "text": [
            "(28, 28)\n",
            "2\n"
          ],
          "name": "stdout"
        }
      ]
    },
    {
      "cell_type": "code",
      "metadata": {
        "id": "rncQpPv4LjyA",
        "colab_type": "code",
        "outputId": "ef8b1358-6b30-4819-88fe-3d2182c0fa0b",
        "colab": {
          "base_uri": "https://localhost:8080/",
          "height": 1000
        }
      },
      "source": [
        "#Printing data image\n",
        "print(image)"
      ],
      "execution_count": 8,
      "outputs": [
        {
          "output_type": "stream",
          "text": [
            "[[  0.   0.   0.   0.   0.   0.   0.   0.   0.   0.   0.   0.   0.   0.\n",
            "    0.   0.   0.   0.   0.   0.   0.   0.   0.   0.   0.   0.   0.   0.]\n",
            " [  0.   0.   0.   0.   0.   0.   0.   0.   0.   0.   0.   0.   0.   0.\n",
            "    0.   0.   0.   0.   0.   0.   0.   0.   0.   0.   0.   0.   0.   0.]\n",
            " [  0.   0.   0.   0.   0.   0.   0.   0.   0.   0.   0.   0.   0.   0.\n",
            "    0.   0.   0.   0.   0.   0.   0.   0.   0.   0.   0.   0.   0.   0.]\n",
            " [  0.   0.   0.   0.   0.   0.   0.   0.   0.   0.   0.   0.   0.   0.\n",
            "    0.   0.   0.   0.   0.   0.   0.   0.   0.   0.   0.   0.   0.   0.]\n",
            " [  0.   0.   0.   0.   0.   0.   0.   0.   0.   0.   0.   0.   0.   0.\n",
            "    0.   0.   0.   0.   0.   0.   0.   0.   0.   0.   0.   0.   0.   0.]\n",
            " [  0.   0.   0.   0.   0.   0.   0.   0.   0.   0.   0.   0.   0.   0.\n",
            "    0.   0.   0.   0.   0.   0.  67. 232.  39.   0.   0.   0.   0.   0.]\n",
            " [  0.   0.   0.   0.  62.  81.   0.   0.   0.   0.   0.   0.   0.   0.\n",
            "    0.   0.   0.   0.   0.   0. 120. 180.  39.   0.   0.   0.   0.   0.]\n",
            " [  0.   0.   0.   0. 126. 163.   0.   0.   0.   0.   0.   0.   0.   0.\n",
            "    0.   0.   0.   0.   0.   2. 153. 210.  40.   0.   0.   0.   0.   0.]\n",
            " [  0.   0.   0.   0. 220. 163.   0.   0.   0.   0.   0.   0.   0.   0.\n",
            "    0.   0.   0.   0.   0.  27. 254. 162.   0.   0.   0.   0.   0.   0.]\n",
            " [  0.   0.   0.   0. 222. 163.   0.   0.   0.   0.   0.   0.   0.   0.\n",
            "    0.   0.   0.   0.   0. 183. 254. 125.   0.   0.   0.   0.   0.   0.]\n",
            " [  0.   0.   0.  46. 245. 163.   0.   0.   0.   0.   0.   0.   0.   0.\n",
            "    0.   0.   0.   0.   0. 198. 254.  56.   0.   0.   0.   0.   0.   0.]\n",
            " [  0.   0.   0. 120. 254. 163.   0.   0.   0.   0.   0.   0.   0.   0.\n",
            "    0.   0.   0.   0.  23. 231. 254.  29.   0.   0.   0.   0.   0.   0.]\n",
            " [  0.   0.   0. 159. 254. 120.   0.   0.   0.   0.   0.   0.   0.   0.\n",
            "    0.   0.   0.   0. 163. 254. 216.  16.   0.   0.   0.   0.   0.   0.]\n",
            " [  0.   0.   0. 159. 254.  67.   0.   0.   0.   0.   0.   0.   0.   0.\n",
            "    0.  14.  86. 178. 248. 254.  91.   0.   0.   0.   0.   0.   0.   0.]\n",
            " [  0.   0.   0. 159. 254.  85.   0.   0.   0.  47.  49. 116. 144. 150.\n",
            "  241. 243. 234. 179. 241. 252.  40.   0.   0.   0.   0.   0.   0.   0.]\n",
            " [  0.   0.   0. 150. 253. 237. 207. 207. 207. 253. 254. 250. 240. 198.\n",
            "  143.  91.  28.   5. 233. 250.   0.   0.   0.   0.   0.   0.   0.   0.]\n",
            " [  0.   0.   0.   0. 119. 177. 177. 177. 177. 177.  98.  56.   0.   0.\n",
            "    0.   0.   0. 102. 254. 220.   0.   0.   0.   0.   0.   0.   0.   0.]\n",
            " [  0.   0.   0.   0.   0.   0.   0.   0.   0.   0.   0.   0.   0.   0.\n",
            "    0.   0.   0. 169. 254. 137.   0.   0.   0.   0.   0.   0.   0.   0.]\n",
            " [  0.   0.   0.   0.   0.   0.   0.   0.   0.   0.   0.   0.   0.   0.\n",
            "    0.   0.   0. 169. 254.  57.   0.   0.   0.   0.   0.   0.   0.   0.]\n",
            " [  0.   0.   0.   0.   0.   0.   0.   0.   0.   0.   0.   0.   0.   0.\n",
            "    0.   0.   0. 169. 254.  57.   0.   0.   0.   0.   0.   0.   0.   0.]\n",
            " [  0.   0.   0.   0.   0.   0.   0.   0.   0.   0.   0.   0.   0.   0.\n",
            "    0.   0.   0. 169. 255.  94.   0.   0.   0.   0.   0.   0.   0.   0.]\n",
            " [  0.   0.   0.   0.   0.   0.   0.   0.   0.   0.   0.   0.   0.   0.\n",
            "    0.   0.   0. 169. 254.  96.   0.   0.   0.   0.   0.   0.   0.   0.]\n",
            " [  0.   0.   0.   0.   0.   0.   0.   0.   0.   0.   0.   0.   0.   0.\n",
            "    0.   0.   0. 169. 254. 153.   0.   0.   0.   0.   0.   0.   0.   0.]\n",
            " [  0.   0.   0.   0.   0.   0.   0.   0.   0.   0.   0.   0.   0.   0.\n",
            "    0.   0.   0. 169. 255. 153.   0.   0.   0.   0.   0.   0.   0.   0.]\n",
            " [  0.   0.   0.   0.   0.   0.   0.   0.   0.   0.   0.   0.   0.   0.\n",
            "    0.   0.   0.  96. 254. 153.   0.   0.   0.   0.   0.   0.   0.   0.]\n",
            " [  0.   0.   0.   0.   0.   0.   0.   0.   0.   0.   0.   0.   0.   0.\n",
            "    0.   0.   0.   0.   0.   0.   0.   0.   0.   0.   0.   0.   0.   0.]\n",
            " [  0.   0.   0.   0.   0.   0.   0.   0.   0.   0.   0.   0.   0.   0.\n",
            "    0.   0.   0.   0.   0.   0.   0.   0.   0.   0.   0.   0.   0.   0.]\n",
            " [  0.   0.   0.   0.   0.   0.   0.   0.   0.   0.   0.   0.   0.   0.\n",
            "    0.   0.   0.   0.   0.   0.   0.   0.   0.   0.   0.   0.   0.   0.]]\n"
          ],
          "name": "stdout"
        }
      ]
    },
    {
      "cell_type": "code",
      "metadata": {
        "id": "EbXrel-DZIef",
        "colab_type": "code",
        "outputId": "b7af1202-25f2-474f-d596-bd5096d4f50d",
        "colab": {
          "base_uri": "https://localhost:8080/",
          "height": 195
        }
      },
      "source": [
        "# Reading Train LABELS\n",
        "p= gzip.open('train-labels-idx1-ubyte.gz','r')\n",
        "p.read(8)\n",
        "data = p.read(60000)\n",
        "train_labels = np.frombuffer(data, dtype=np.uint8).astype(np.int64)\n",
        "train_labels = train_labels.reshape(60000,-1)\n",
        "\n",
        "for i in range(0,10):\n",
        "  print(train_labels[i])\n"
      ],
      "execution_count": 9,
      "outputs": [
        {
          "output_type": "stream",
          "text": [
            "[5]\n",
            "[0]\n",
            "[4]\n",
            "[1]\n",
            "[9]\n",
            "[2]\n",
            "[1]\n",
            "[3]\n",
            "[1]\n",
            "[4]\n"
          ],
          "name": "stdout"
        }
      ]
    },
    {
      "cell_type": "code",
      "metadata": {
        "id": "zkCEiDknmE8f",
        "colab_type": "code",
        "outputId": "40269d27-a921-452f-df85-f1b7b7fa2e64",
        "colab": {
          "base_uri": "https://localhost:8080/",
          "height": 35
        }
      },
      "source": [
        "print(train_labels.shape)"
      ],
      "execution_count": 10,
      "outputs": [
        {
          "output_type": "stream",
          "text": [
            "(60000, 1)\n"
          ],
          "name": "stdout"
        }
      ]
    },
    {
      "cell_type": "code",
      "metadata": {
        "id": "ogoSEF8QGbXl",
        "colab_type": "code",
        "outputId": "547db9f0-1c37-4f05-854c-b5f71dd12c22",
        "colab": {
          "base_uri": "https://localhost:8080/",
          "height": 35
        }
      },
      "source": [
        "#Reading test images\n",
        "t = gzip.open('t10k-images-idx3-ubyte.gz')\n",
        "image_size = 28\n",
        "num_images_test = 10000\n",
        "\n",
        "t.read(16)\n",
        "buf_train = t.read(image_size * image_size * num_images_test)\n",
        "data_test = np.frombuffer(buf_train, dtype=np.uint8).astype(np.float32)\n",
        "data_test = data_test.reshape(num_images_test, image_size, image_size)\n",
        "data_test = data_test.reshape(10000,-1)\n",
        "print(data_test.shape)"
      ],
      "execution_count": 11,
      "outputs": [
        {
          "output_type": "stream",
          "text": [
            "(10000, 784)\n"
          ],
          "name": "stdout"
        }
      ]
    },
    {
      "cell_type": "code",
      "metadata": {
        "id": "s295NtwKy6NV",
        "colab_type": "code",
        "outputId": "0aa38362-f198-4c14-cd3d-3f4f03c37008",
        "colab": {
          "base_uri": "https://localhost:8080/",
          "height": 265
        }
      },
      "source": [
        "image = np.asarray((data_test[2]).reshape((28,28)))\n",
        "plt.imshow(image, cmap='Greys')\n",
        "plt.show()"
      ],
      "execution_count": 12,
      "outputs": [
        {
          "output_type": "display_data",
          "data": {
            "image/png": "[encoded data removed]",
            "text/plain": [
              "<Figure size 432x288 with 1 Axes>"
            ]
          },
          "metadata": {
            "tags": []
          }
        }
      ]
    },
    {
      "cell_type": "code",
      "metadata": {
        "id": "p0wyP-52zd_A",
        "colab_type": "code",
        "outputId": "400cd08c-b2d0-4a61-e30e-2760f44b568c",
        "colab": {
          "base_uri": "https://localhost:8080/",
          "height": 195
        }
      },
      "source": [
        "# Reading test LABELS\n",
        "p= gzip.open('t10k-labels-idx1-ubyte.gz','r')\n",
        "p.read(8)\n",
        "data = p.read(10000)\n",
        "test_labels = np.frombuffer(data, dtype=np.uint8).astype(np.int64)\n",
        "test_labels = test_labels.reshape(10000,-1)\n",
        "\n",
        "for i in range(0,10):\n",
        "  print(test_labels[i])\n"
      ],
      "execution_count": 13,
      "outputs": [
        {
          "output_type": "stream",
          "text": [
            "[7]\n",
            "[2]\n",
            "[1]\n",
            "[0]\n",
            "[4]\n",
            "[1]\n",
            "[4]\n",
            "[9]\n",
            "[5]\n",
            "[9]\n"
          ],
          "name": "stdout"
        }
      ]
    },
    {
      "cell_type": "code",
      "metadata": {
        "id": "xvjclTyRj5qF",
        "colab_type": "code",
        "outputId": "0d84bd60-29a6-4e2c-f49d-8ddda11b7cee",
        "colab": {
          "base_uri": "https://localhost:8080/",
          "height": 35
        }
      },
      "source": [
        "test_labels.shape"
      ],
      "execution_count": 14,
      "outputs": [
        {
          "output_type": "execute_result",
          "data": {
            "text/plain": [
              "(10000, 1)"
            ]
          },
          "metadata": {
            "tags": []
          },
          "execution_count": 14
        }
      ]
    },
    {
      "cell_type": "markdown",
      "metadata": {
        "id": "tTHZUXbaa3CR",
        "colab_type": "text"
      },
      "source": [
        "# **Implementation of HOG (Histogram of Oriented Gradients)**"
      ]
    },
    {
      "cell_type": "code",
      "metadata": {
        "id": "eTEfBiQUOavT",
        "colab_type": "code",
        "colab": {}
      },
      "source": [
        "#Implementation for just one image/ digit\n",
        "imageHOG = data_train_1.copy()\n"
      ],
      "execution_count": 0,
      "outputs": []
    },
    {
      "cell_type": "code",
      "metadata": {
        "id": "m4Id9v62LTfe",
        "colab_type": "code",
        "colab": {}
      },
      "source": [
        "imageHOG = imageHOG[0]\n",
        "#If aspect ratio of 1:2\n",
        "#imageHOG = resize (imageHOG[4], (14,28))\n"
      ],
      "execution_count": 0,
      "outputs": []
    },
    {
      "cell_type": "code",
      "metadata": {
        "id": "YKz9CWf5Ocd1",
        "colab_type": "code",
        "colab": {
          "base_uri": "https://localhost:8080/",
          "height": 35
        },
        "outputId": "35c7d2f7-b072-4bcb-8bfd-7049d3b898a1"
      },
      "source": [
        "print(imageHOG.shape)\n"
      ],
      "execution_count": 55,
      "outputs": [
        {
          "output_type": "stream",
          "text": [
            "(28, 28)\n"
          ],
          "name": "stdout"
        }
      ]
    },
    {
      "cell_type": "code",
      "metadata": {
        "id": "a68usUoUOggN",
        "colab_type": "code",
        "colab": {}
      },
      "source": [
        "fd, hog_image = hog(imageHOG, orientations=9, pixels_per_cell=(14, 14), \n",
        "\n",
        "                    cells_per_block=(1, 1), visualize= True)"
      ],
      "execution_count": 0,
      "outputs": []
    },
    {
      "cell_type": "code",
      "metadata": {
        "id": "uQ5XVE0MO0CZ",
        "colab_type": "code",
        "colab": {
          "base_uri": "https://localhost:8080/",
          "height": 35
        },
        "outputId": "d31ebc41-ac3d-4c5a-bb9a-08ccc97c25b1"
      },
      "source": [
        "# 1D vector\n",
        "fd.shape"
      ],
      "execution_count": 59,
      "outputs": [
        {
          "output_type": "execute_result",
          "data": {
            "text/plain": [
              "(36,)"
            ]
          },
          "metadata": {
            "tags": []
          },
          "execution_count": 59
        }
      ]
    },
    {
      "cell_type": "code",
      "metadata": {
        "id": "qAaiSKnmWpq3",
        "colab_type": "code",
        "colab": {
          "base_uri": "https://localhost:8080/",
          "height": 35
        },
        "outputId": "180c84a6-08a0-49aa-c25a-cf6c932e12ce"
      },
      "source": [
        "print(hog_image.shape)"
      ],
      "execution_count": 60,
      "outputs": [
        {
          "output_type": "stream",
          "text": [
            "(28, 28)\n"
          ],
          "name": "stdout"
        }
      ]
    },
    {
      "cell_type": "code",
      "metadata": {
        "id": "5h9sOZBW6pHb",
        "colab_type": "code",
        "colab": {
          "base_uri": "https://localhost:8080/",
          "height": 310
        },
        "outputId": "aa1dc8fe-834e-42f6-8675-912e3edf4937"
      },
      "source": [
        "fig, (ax1, ax2) = plt.subplots(1, 2, figsize=(9, 8), sharex=True, sharey=True) \n",
        "\n",
        "ax1.imshow(imageHOG, cmap='Greys')\n",
        "ax1.set_title('Original image') \n",
        "\n",
        "#Reescale histogram \n",
        "hog_image_rescaled = exposure.rescale_intensity(hog_image, in_range=(0, 11))\n",
        "\n",
        "ax2.imshow(hog_image_rescaled, cmap='Greys')\n",
        "ax2.set_title('HOG (Histogram of Oriented Gradients')\n"
      ],
      "execution_count": 72,
      "outputs": [
        {
          "output_type": "execute_result",
          "data": {
            "text/plain": [
              "Text(0.5, 1.0, 'HOG (Histogram of Oriented Gradients')"
            ]
          },
          "metadata": {
            "tags": []
          },
          "execution_count": 72
        },
        {
          "output_type": "display_data",
          "data": {
            "image/png": "[encoded data removed]",
            "text/plain": [
              "<Figure size 648x576 with 2 Axes>"
            ]
          },
          "metadata": {
            "tags": []
          }
        }
      ]
    },
    {
      "cell_type": "code",
      "metadata": {
        "id": "fZvoHhXDbFTO",
        "colab_type": "code",
        "outputId": "4e368653-0b70-4c1c-cc89-5b5f7cf91554",
        "colab": {
          "base_uri": "https://localhost:8080/",
          "height": 53
        }
      },
      "source": [
        "# Implementing HOG to all the data set \n",
        "\n",
        "image_HOG = data_train_1.copy()\n",
        "print(image_HOG.shape)\n",
        "final_hog = np.zeros(shape=(60000,28,28))\n",
        "print(final_hog.shape)"
      ],
      "execution_count": 65,
      "outputs": [
        {
          "output_type": "stream",
          "text": [
            "(60000, 28, 28)\n",
            "(60000, 28, 28)\n"
          ],
          "name": "stdout"
        }
      ]
    },
    {
      "cell_type": "code",
      "metadata": {
        "id": "FnZRb_BgJpWk",
        "colab_type": "code",
        "colab": {
          "base_uri": "https://localhost:8080/",
          "height": 35
        },
        "outputId": "956083bf-3441-45b2-d220-e97eb8f66077"
      },
      "source": [
        "final_hog = np.zeros(shape=(60000,28,28))\n",
        "\n",
        "for i in range(60000):\n",
        "\n",
        "  y = np.asarray(hog(image_HOG[i], orientations=9, pixels_per_cell=(14, 14), \n",
        "                    cells_per_block=(1, 1), visualize=True)[1])\n",
        "  final_hog[i]=y\n",
        "\n",
        "print (final_hog.shape)"
      ],
      "execution_count": 67,
      "outputs": [
        {
          "output_type": "stream",
          "text": [
            "(60000, 28, 28)\n"
          ],
          "name": "stdout"
        }
      ]
    },
    {
      "cell_type": "code",
      "metadata": {
        "id": "84rCovYYQRt5",
        "colab_type": "code",
        "colab": {}
      },
      "source": [
        "#Dividing the data implementing HOG"
      ],
      "execution_count": 0,
      "outputs": []
    },
    {
      "cell_type": "code",
      "metadata": {
        "id": "rHrY5nfZQWoi",
        "colab_type": "code",
        "colab": {}
      },
      "source": [
        "X_HOG = hog_features\n",
        "y_HOG = train_labels"
      ],
      "execution_count": 0,
      "outputs": []
    },
    {
      "cell_type": "code",
      "metadata": {
        "id": "A4T_1ARVT3EL",
        "colab_type": "code",
        "colab": {
          "base_uri": "https://localhost:8080/",
          "height": 53
        },
        "outputId": "4edabf86-5848-42b8-a5b9-684e41ecee28"
      },
      "source": [
        "# Partition the data in 70/30\n",
        "\n",
        "# X = data\n",
        "# y = labels\n",
        "\n",
        "X_train, X_test, y_train, y_test = train_test_split(\n",
        "    X_HOG, y_HOG, test_size=0.3, random_state=4)\n",
        "\n",
        "print('training shape: {}'.format(X_train.shape))\n",
        "print('testing shape: {}'.format(X_test.shape))"
      ],
      "execution_count": 59,
      "outputs": [
        {
          "output_type": "stream",
          "text": [
            "training shape: (42000, 2)\n",
            "testing shape: (18000, 2)\n"
          ],
          "name": "stdout"
        }
      ]
    },
    {
      "cell_type": "code",
      "metadata": {
        "id": "RMH2zztPUBgs",
        "colab_type": "code",
        "colab": {}
      },
      "source": [
        "  kNN = KNeighborsClassifier(n_neighbors=3) \n",
        "  kNN.fit(X_train, y_train)\n",
        "  acc_train = kNN.predict(X_test)\n",
        "  acc_test = kNN.score(X_test,y_test)\n",
        "  print('Test set accuracy: ', acc_test)\n"
      ],
      "execution_count": 0,
      "outputs": []
    },
    {
      "cell_type": "markdown",
      "metadata": {
        "id": "k3kRDC-obGRv",
        "colab_type": "text"
      },
      "source": [
        "# **Dividing the data**"
      ]
    },
    {
      "cell_type": "code",
      "metadata": {
        "id": "0ZH_RfYS8fqT",
        "colab_type": "code",
        "colab": {}
      },
      "source": [
        "X = data_train\n",
        "y = train_labels"
      ],
      "execution_count": 0,
      "outputs": []
    },
    {
      "cell_type": "code",
      "metadata": {
        "id": "AQZnOeVBKnMd",
        "colab_type": "code",
        "outputId": "001b6ee1-01d8-474c-f0dc-781f3ae80254",
        "colab": {
          "base_uri": "https://localhost:8080/",
          "height": 53
        }
      },
      "source": [
        "# Partition the data in 70/30\n",
        "\n",
        "# X = data\n",
        "# y = labels\n",
        "\n",
        "X_train, X_test, y_train, y_test = train_test_split(\n",
        "    X, y, test_size=0.3, random_state=4)\n",
        "\n",
        "print('training shape: {}'.format(X_train.shape))\n",
        "print('testing shape: {}'.format(X_test.shape))"
      ],
      "execution_count": 10,
      "outputs": [
        {
          "output_type": "stream",
          "text": [
            "training shape: (42000, 784)\n",
            "testing shape: (18000, 784)\n"
          ],
          "name": "stdout"
        }
      ]
    },
    {
      "cell_type": "code",
      "metadata": {
        "id": "jGGAp_NsWv7j",
        "colab_type": "code",
        "colab": {}
      },
      "source": [
        ""
      ],
      "execution_count": 0,
      "outputs": []
    },
    {
      "cell_type": "markdown",
      "metadata": {
        "id": "guU2F36eDlhm",
        "colab_type": "text"
      },
      "source": [
        "## **Data understanding:**\n",
        "Let us understand shape of the data set, missing values, attributes meanings etc. \n"
      ]
    },
    {
      "cell_type": "code",
      "metadata": {
        "id": "lwXATxeAdK_n",
        "colab_type": "code",
        "colab": {}
      },
      "source": [
        "train_Data"
      ],
      "execution_count": 0,
      "outputs": []
    },
    {
      "cell_type": "code",
      "metadata": {
        "id": "zEQN9pad8aGL",
        "colab_type": "code",
        "colab": {}
      },
      "source": [
        "# Missing values in the data set:\n",
        "train_Data.isnull().sum().head(10)"
      ],
      "execution_count": 0,
      "outputs": []
    },
    {
      "cell_type": "code",
      "metadata": {
        "id": "I6dM77W7BVIH",
        "colab_type": "code",
        "colab": {}
      },
      "source": [
        "train_Data.describe()"
      ],
      "execution_count": 0,
      "outputs": []
    },
    {
      "cell_type": "code",
      "metadata": {
        "id": "1hQBB4qOB4wB",
        "colab_type": "code",
        "colab": {}
      },
      "source": [
        "# About the Training Data: \n",
        "\n",
        "# dimensions\n",
        "print(\"Dimensions: \",train_Data.shape, \"\\n\")\n",
        "\n",
        "# data types\n",
        "print(train_Data.info())\n"
      ],
      "execution_count": 0,
      "outputs": []
    },
    {
      "cell_type": "code",
      "metadata": {
        "id": "1-M0Pi9zdr3f",
        "colab_type": "code",
        "colab": {}
      },
      "source": [
        "test_Data = pd.read_csv('test.csv')"
      ],
      "execution_count": 0,
      "outputs": []
    },
    {
      "cell_type": "code",
      "metadata": {
        "id": "cGQEsSfmd58o",
        "colab_type": "code",
        "colab": {}
      },
      "source": [
        "test_Data"
      ],
      "execution_count": 0,
      "outputs": []
    },
    {
      "cell_type": "code",
      "metadata": {
        "id": "cTTX_25l8yq-",
        "colab_type": "code",
        "colab": {}
      },
      "source": [
        "test_Data.isnull().sum().head(10)"
      ],
      "execution_count": 0,
      "outputs": []
    },
    {
      "cell_type": "code",
      "metadata": {
        "id": "NMd1NYLuBg0-",
        "colab_type": "code",
        "colab": {}
      },
      "source": [
        "test_Data.describe()"
      ],
      "execution_count": 0,
      "outputs": []
    },
    {
      "cell_type": "code",
      "metadata": {
        "id": "T1S2AaGaDLNN",
        "colab_type": "code",
        "colab": {}
      },
      "source": [
        "# About the test Data: \n",
        "\n",
        "# dimensions\n",
        "print(\"Dimensions: \",test_Data.shape, \"\\n\")\n",
        "\n",
        "# data types\n",
        "print(test_Data.info())\n"
      ],
      "execution_count": 0,
      "outputs": []
    },
    {
      "cell_type": "code",
      "metadata": {
        "id": "xTzMIacsDgJM",
        "colab_type": "code",
        "colab": {}
      },
      "source": [
        "# Label presented in the data:\n",
        "Labels = list(np.sort(train_Data['label'].unique()))\n",
        "print (Labels)"
      ],
      "execution_count": 0,
      "outputs": []
    },
    {
      "cell_type": "code",
      "metadata": {
        "id": "a20yflXiEmzK",
        "colab_type": "code",
        "colab": {}
      },
      "source": [
        "#Ploting the number of digits in the data set: \n",
        "sns.countplot(train_Data[\"label\"])"
      ],
      "execution_count": 0,
      "outputs": []
    },
    {
      "cell_type": "markdown",
      "metadata": {
        "id": "h1M-cXIP-Pz3",
        "colab_type": "text"
      },
      "source": [
        "## **Ploting Images**"
      ]
    },
    {
      "cell_type": "code",
      "metadata": {
        "id": "Wv-9a8iA4IZK",
        "colab_type": "code",
        "colab": {}
      },
      "source": [
        "# Random image \n",
        "first_image = np.array(train_Data.iloc[19890,1:]).reshape((28,28))\n",
        "plt.imshow(first_image, cmap='Greys')\n",
        "plt.show()"
      ],
      "execution_count": 0,
      "outputs": []
    },
    {
      "cell_type": "code",
      "metadata": {
        "id": "QT5TVLcM7QbN",
        "colab_type": "code",
        "colab": {}
      },
      "source": [
        "# Each image is 28 pixels in height and 28 pixels in width, for a total of 784 pixels in total\n",
        "print ((int(np.sqrt(train_Data.shape[1]))))\n",
        "print ((int(np.sqrt(train_Data.shape[1]))))"
      ],
      "execution_count": 0,
      "outputs": []
    },
    {
      "cell_type": "code",
      "metadata": {
        "id": "avLCGguI-WI9",
        "colab_type": "code",
        "colab": {}
      },
      "source": [
        "image_size = (int(np.sqrt(train_Data.shape[1])),int(np.sqrt(train_Data.shape[1])))\n",
        "image = plt.figure(figsize=(10,10))\n",
        "for j in range(36):\n",
        "    axi=image.add_subplot(6,6,j+1)\n",
        "    plot_image = np.array(train_Data.iloc[j,1:]).reshape(image_size)\n",
        "    axi.imshow(plot_image,cmap='Greys')\n",
        "plt.show()"
      ],
      "execution_count": 0,
      "outputs": []
    },
    {
      "cell_type": "code",
      "metadata": {
        "id": "Wn9GYjNMQPGd",
        "colab_type": "code",
        "colab": {}
      },
      "source": [
        "data = train_Data.values [:40000]\n",
        "data.shape"
      ],
      "execution_count": 0,
      "outputs": []
    },
    {
      "cell_type": "code",
      "metadata": {
        "id": "T86Su_kaf7ey",
        "colab_type": "code",
        "colab": {}
      },
      "source": [
        "#Taking all the values without the label\n",
        "X = data[:,1:]\n",
        "#Taking just the label\n",
        "y = data[:, 0]"
      ],
      "execution_count": 0,
      "outputs": []
    },
    {
      "cell_type": "code",
      "metadata": {
        "id": "RHdxTsES1ckV",
        "colab_type": "code",
        "colab": {}
      },
      "source": [
        "print('The shape of the Numpy train array is {}'.format(X.shape))\n",
        "\n",
        "print('The shape of the Numpy labels array is {}'.format(y.shape))"
      ],
      "execution_count": 0,
      "outputs": []
    },
    {
      "cell_type": "code",
      "metadata": {
        "id": "vSAHuIQU1vwL",
        "colab_type": "code",
        "colab": {}
      },
      "source": [
        "# Partition the data in 70/30\n",
        "# X = data\n",
        "# y = labels\n",
        "\n",
        "X_train, X_test, y_train, y_test = train_test_split(\n",
        "    X, y, test_size=0.3, random_state=4)\n",
        "\n",
        "print('training shape: {}'.format(X_train.shape))\n",
        "print('testing shape: {}'.format(X_test.shape))"
      ],
      "execution_count": 0,
      "outputs": []
    },
    {
      "cell_type": "code",
      "metadata": {
        "id": "dIaovFyOzD7T",
        "colab_type": "code",
        "colab": {}
      },
      "source": [
        "X_train, X_valid, y_train, y_val = train_test_split(X_train, y_train,\n",
        "test_size=0.1, random_state=84)\n",
        "\n",
        "print('Validation shape: {}'.format(X_valid.shape))"
      ],
      "execution_count": 0,
      "outputs": []
    },
    {
      "cell_type": "markdown",
      "metadata": {
        "id": "SEHeox3l2d54",
        "colab_type": "text"
      },
      "source": [
        "## **Implementation of a simple kNN**\n",
        "\n",
        "\n"
      ]
    },
    {
      "cell_type": "code",
      "metadata": {
        "id": "IATJv84uyHMa",
        "colab_type": "code",
        "outputId": "82cfd112-36b7-4971-cb2d-4ae2daaa9375",
        "colab": {
          "base_uri": "https://localhost:8080/",
          "height": 73
        }
      },
      "source": [
        "  kNN = KNeighborsClassifier(n_neighbors=3) \n",
        "  kNN.fit(X_train, y_train)\n",
        "  acc_train = kNN.predict(X_test)\n",
        "  acc_test = kNN.score(X_test,y_test)\n",
        "  print('Test set accuracy: ', acc_test)\n",
        "\n"
      ],
      "execution_count": 0,
      "outputs": [
        {
          "output_type": "stream",
          "text": [
            "/usr/local/lib/python3.6/dist-packages/ipykernel_launcher.py:2: DataConversionWarning: A column-vector y was passed when a 1d array was expected. Please change the shape of y to (n_samples, ), for example using ravel().\n",
            "  \n"
          ],
          "name": "stderr"
        }
      ]
    },
    {
      "cell_type": "code",
      "metadata": {
        "id": "X6SOJMEHCrUM",
        "colab_type": "code",
        "outputId": "7fdf26ac-5100-4b12-ff49-52a6ffac09b9",
        "colab": {
          "base_uri": "https://localhost:8080/",
          "height": 406
        }
      },
      "source": [
        "print(\"EVALUATION kNN\")\n",
        "print(classification_report(y_test, acc_test))\n",
        "\n",
        "print (\"Confusion matrix kNN\")\n",
        "print(confusion_matrix(y_test, acc_test))\n",
        "\n"
      ],
      "execution_count": 0,
      "outputs": [
        {
          "output_type": "stream",
          "text": [
            "EVALUATION kNN\n"
          ],
          "name": "stdout"
        },
        {
          "output_type": "error",
          "ename": "TypeError",
          "evalue": "ignored",
          "traceback": [
            "\u001b[0;31m---------------------------------------------------------------------------\u001b[0m",
            "\u001b[0;31mTypeError\u001b[0m                                 Traceback (most recent call last)",
            "\u001b[0;32m<ipython-input-21-8b10ba905d80>\u001b[0m in \u001b[0;36m<module>\u001b[0;34m()\u001b[0m\n\u001b[1;32m      1\u001b[0m \u001b[0mprint\u001b[0m\u001b[0;34m(\u001b[0m\u001b[0;34m\"EVALUATION kNN\"\u001b[0m\u001b[0;34m)\u001b[0m\u001b[0;34m\u001b[0m\u001b[0;34m\u001b[0m\u001b[0m\n\u001b[0;32m----> 2\u001b[0;31m \u001b[0mprint\u001b[0m\u001b[0;34m(\u001b[0m\u001b[0mclassification_report\u001b[0m\u001b[0;34m(\u001b[0m\u001b[0my_test\u001b[0m\u001b[0;34m,\u001b[0m \u001b[0macc_test\u001b[0m\u001b[0;34m)\u001b[0m\u001b[0;34m)\u001b[0m\u001b[0;34m\u001b[0m\u001b[0;34m\u001b[0m\u001b[0m\n\u001b[0m\u001b[1;32m      3\u001b[0m \u001b[0;34m\u001b[0m\u001b[0m\n\u001b[1;32m      4\u001b[0m \u001b[0mprint\u001b[0m \u001b[0;34m(\u001b[0m\u001b[0;34m\"Confusion matrix kNN\"\u001b[0m\u001b[0;34m)\u001b[0m\u001b[0;34m\u001b[0m\u001b[0;34m\u001b[0m\u001b[0m\n\u001b[1;32m      5\u001b[0m \u001b[0mprint\u001b[0m\u001b[0;34m(\u001b[0m\u001b[0mconfusion_matrix\u001b[0m\u001b[0;34m(\u001b[0m\u001b[0my_test\u001b[0m\u001b[0;34m,\u001b[0m \u001b[0macc_test\u001b[0m\u001b[0;34m)\u001b[0m\u001b[0;34m)\u001b[0m\u001b[0;34m\u001b[0m\u001b[0;34m\u001b[0m\u001b[0m\n",
            "\u001b[0;32m/usr/local/lib/python3.6/dist-packages/sklearn/metrics/_classification.py\u001b[0m in \u001b[0;36mclassification_report\u001b[0;34m(y_true, y_pred, labels, target_names, sample_weight, digits, output_dict, zero_division)\u001b[0m\n\u001b[1;32m   1969\u001b[0m     \"\"\"\n\u001b[1;32m   1970\u001b[0m \u001b[0;34m\u001b[0m\u001b[0m\n\u001b[0;32m-> 1971\u001b[0;31m     \u001b[0my_type\u001b[0m\u001b[0;34m,\u001b[0m \u001b[0my_true\u001b[0m\u001b[0;34m,\u001b[0m \u001b[0my_pred\u001b[0m \u001b[0;34m=\u001b[0m \u001b[0m_check_targets\u001b[0m\u001b[0;34m(\u001b[0m\u001b[0my_true\u001b[0m\u001b[0;34m,\u001b[0m \u001b[0my_pred\u001b[0m\u001b[0;34m)\u001b[0m\u001b[0;34m\u001b[0m\u001b[0;34m\u001b[0m\u001b[0m\n\u001b[0m\u001b[1;32m   1972\u001b[0m \u001b[0;34m\u001b[0m\u001b[0m\n\u001b[1;32m   1973\u001b[0m     \u001b[0mlabels_given\u001b[0m \u001b[0;34m=\u001b[0m \u001b[0;32mTrue\u001b[0m\u001b[0;34m\u001b[0m\u001b[0;34m\u001b[0m\u001b[0m\n",
            "\u001b[0;32m/usr/local/lib/python3.6/dist-packages/sklearn/metrics/_classification.py\u001b[0m in \u001b[0;36m_check_targets\u001b[0;34m(y_true, y_pred)\u001b[0m\n\u001b[1;32m     78\u001b[0m     \u001b[0my_pred\u001b[0m \u001b[0;34m:\u001b[0m \u001b[0marray\u001b[0m \u001b[0;32mor\u001b[0m \u001b[0mindicator\u001b[0m \u001b[0mmatrix\u001b[0m\u001b[0;34m\u001b[0m\u001b[0;34m\u001b[0m\u001b[0m\n\u001b[1;32m     79\u001b[0m     \"\"\"\n\u001b[0;32m---> 80\u001b[0;31m     \u001b[0mcheck_consistent_length\u001b[0m\u001b[0;34m(\u001b[0m\u001b[0my_true\u001b[0m\u001b[0;34m,\u001b[0m \u001b[0my_pred\u001b[0m\u001b[0;34m)\u001b[0m\u001b[0;34m\u001b[0m\u001b[0;34m\u001b[0m\u001b[0m\n\u001b[0m\u001b[1;32m     81\u001b[0m     \u001b[0mtype_true\u001b[0m \u001b[0;34m=\u001b[0m \u001b[0mtype_of_target\u001b[0m\u001b[0;34m(\u001b[0m\u001b[0my_true\u001b[0m\u001b[0;34m)\u001b[0m\u001b[0;34m\u001b[0m\u001b[0;34m\u001b[0m\u001b[0m\n\u001b[1;32m     82\u001b[0m     \u001b[0mtype_pred\u001b[0m \u001b[0;34m=\u001b[0m \u001b[0mtype_of_target\u001b[0m\u001b[0;34m(\u001b[0m\u001b[0my_pred\u001b[0m\u001b[0;34m)\u001b[0m\u001b[0;34m\u001b[0m\u001b[0;34m\u001b[0m\u001b[0m\n",
            "\u001b[0;32m/usr/local/lib/python3.6/dist-packages/sklearn/utils/validation.py\u001b[0m in \u001b[0;36mcheck_consistent_length\u001b[0;34m(*arrays)\u001b[0m\n\u001b[1;32m    206\u001b[0m     \"\"\"\n\u001b[1;32m    207\u001b[0m \u001b[0;34m\u001b[0m\u001b[0m\n\u001b[0;32m--> 208\u001b[0;31m     \u001b[0mlengths\u001b[0m \u001b[0;34m=\u001b[0m \u001b[0;34m[\u001b[0m\u001b[0m_num_samples\u001b[0m\u001b[0;34m(\u001b[0m\u001b[0mX\u001b[0m\u001b[0;34m)\u001b[0m \u001b[0;32mfor\u001b[0m \u001b[0mX\u001b[0m \u001b[0;32min\u001b[0m \u001b[0marrays\u001b[0m \u001b[0;32mif\u001b[0m \u001b[0mX\u001b[0m \u001b[0;32mis\u001b[0m \u001b[0;32mnot\u001b[0m \u001b[0;32mNone\u001b[0m\u001b[0;34m]\u001b[0m\u001b[0;34m\u001b[0m\u001b[0;34m\u001b[0m\u001b[0m\n\u001b[0m\u001b[1;32m    209\u001b[0m     \u001b[0muniques\u001b[0m \u001b[0;34m=\u001b[0m \u001b[0mnp\u001b[0m\u001b[0;34m.\u001b[0m\u001b[0munique\u001b[0m\u001b[0;34m(\u001b[0m\u001b[0mlengths\u001b[0m\u001b[0;34m)\u001b[0m\u001b[0;34m\u001b[0m\u001b[0;34m\u001b[0m\u001b[0m\n\u001b[1;32m    210\u001b[0m     \u001b[0;32mif\u001b[0m \u001b[0mlen\u001b[0m\u001b[0;34m(\u001b[0m\u001b[0muniques\u001b[0m\u001b[0;34m)\u001b[0m \u001b[0;34m>\u001b[0m \u001b[0;36m1\u001b[0m\u001b[0;34m:\u001b[0m\u001b[0;34m\u001b[0m\u001b[0;34m\u001b[0m\u001b[0m\n",
            "\u001b[0;32m/usr/local/lib/python3.6/dist-packages/sklearn/utils/validation.py\u001b[0m in \u001b[0;36m<listcomp>\u001b[0;34m(.0)\u001b[0m\n\u001b[1;32m    206\u001b[0m     \"\"\"\n\u001b[1;32m    207\u001b[0m \u001b[0;34m\u001b[0m\u001b[0m\n\u001b[0;32m--> 208\u001b[0;31m     \u001b[0mlengths\u001b[0m \u001b[0;34m=\u001b[0m \u001b[0;34m[\u001b[0m\u001b[0m_num_samples\u001b[0m\u001b[0;34m(\u001b[0m\u001b[0mX\u001b[0m\u001b[0;34m)\u001b[0m \u001b[0;32mfor\u001b[0m \u001b[0mX\u001b[0m \u001b[0;32min\u001b[0m \u001b[0marrays\u001b[0m \u001b[0;32mif\u001b[0m \u001b[0mX\u001b[0m \u001b[0;32mis\u001b[0m \u001b[0;32mnot\u001b[0m \u001b[0;32mNone\u001b[0m\u001b[0;34m]\u001b[0m\u001b[0;34m\u001b[0m\u001b[0;34m\u001b[0m\u001b[0m\n\u001b[0m\u001b[1;32m    209\u001b[0m     \u001b[0muniques\u001b[0m \u001b[0;34m=\u001b[0m \u001b[0mnp\u001b[0m\u001b[0;34m.\u001b[0m\u001b[0munique\u001b[0m\u001b[0;34m(\u001b[0m\u001b[0mlengths\u001b[0m\u001b[0;34m)\u001b[0m\u001b[0;34m\u001b[0m\u001b[0;34m\u001b[0m\u001b[0m\n\u001b[1;32m    210\u001b[0m     \u001b[0;32mif\u001b[0m \u001b[0mlen\u001b[0m\u001b[0;34m(\u001b[0m\u001b[0muniques\u001b[0m\u001b[0;34m)\u001b[0m \u001b[0;34m>\u001b[0m \u001b[0;36m1\u001b[0m\u001b[0;34m:\u001b[0m\u001b[0;34m\u001b[0m\u001b[0;34m\u001b[0m\u001b[0m\n",
            "\u001b[0;32m/usr/local/lib/python3.6/dist-packages/sklearn/utils/validation.py\u001b[0m in \u001b[0;36m_num_samples\u001b[0;34m(x)\u001b[0m\n\u001b[1;32m    150\u001b[0m         \u001b[0;32mif\u001b[0m \u001b[0mlen\u001b[0m\u001b[0;34m(\u001b[0m\u001b[0mx\u001b[0m\u001b[0;34m.\u001b[0m\u001b[0mshape\u001b[0m\u001b[0;34m)\u001b[0m \u001b[0;34m==\u001b[0m \u001b[0;36m0\u001b[0m\u001b[0;34m:\u001b[0m\u001b[0;34m\u001b[0m\u001b[0;34m\u001b[0m\u001b[0m\n\u001b[1;32m    151\u001b[0m             raise TypeError(\"Singleton array %r cannot be considered\"\n\u001b[0;32m--> 152\u001b[0;31m                             \" a valid collection.\" % x)\n\u001b[0m\u001b[1;32m    153\u001b[0m         \u001b[0;31m# Check that shape is returning an integer or default to len\u001b[0m\u001b[0;34m\u001b[0m\u001b[0;34m\u001b[0m\u001b[0;34m\u001b[0m\u001b[0m\n\u001b[1;32m    154\u001b[0m         \u001b[0;31m# Dask dataframes may not return numeric shape[0] value\u001b[0m\u001b[0;34m\u001b[0m\u001b[0;34m\u001b[0m\u001b[0;34m\u001b[0m\u001b[0m\n",
            "\u001b[0;31mTypeError\u001b[0m: Singleton array 0.9692777777777778 cannot be considered a valid collection."
          ]
        }
      ]
    },
    {
      "cell_type": "markdown",
      "metadata": {
        "id": "2vulspxy3PfO",
        "colab_type": "text"
      },
      "source": [
        "## **Implementation of a linear classifier using SVM**"
      ]
    },
    {
      "cell_type": "code",
      "metadata": {
        "id": "eLPhetRS3TW_",
        "colab_type": "code",
        "colab": {
          "base_uri": "https://localhost:8080/",
          "height": 73
        },
        "outputId": "ee9f5151-4682-45c8-cafb-6fbbedac37d3"
      },
      "source": [
        "# SVM linear model\n",
        "SVM_linear = SVC(kernel='linear')\n",
        "SVM_linear.fit(X_train, y_train)\n",
        "\n",
        "# Prediction\n",
        "SVM_predic = SVM_linear.predict(X_test)"
      ],
      "execution_count": 0,
      "outputs": [
        {
          "output_type": "stream",
          "text": [
            "/usr/local/lib/python3.6/dist-packages/sklearn/utils/validation.py:760: DataConversionWarning: A column-vector y was passed when a 1d array was expected. Please change the shape of y to (n_samples, ), for example using ravel().\n",
            "  y = column_or_1d(y, warn=True)\n"
          ],
          "name": "stderr"
        }
      ]
    },
    {
      "cell_type": "code",
      "metadata": {
        "id": "BPryItbiIoC_",
        "colab_type": "code",
        "outputId": "2f6028ea-8026-4132-cebb-589df80bad0c",
        "colab": {
          "base_uri": "https://localhost:8080/",
          "height": 514
        }
      },
      "source": [
        "print(\"EVALUATION Linear SVM\")\n",
        "print(classification_report(y_test, SVM_predic))\n",
        "\n",
        "print (\"Confusion matrix Linear SVM\")\n",
        "print(confusion_matrix(y_test, SVM_predic))\n"
      ],
      "execution_count": 0,
      "outputs": [
        {
          "output_type": "stream",
          "text": [
            "EVALUATION Linear SVM\n",
            "              precision    recall  f1-score   support\n",
            "\n",
            "           0       0.95      0.98      0.96      1205\n",
            "           1       0.96      0.98      0.97      1300\n",
            "           2       0.87      0.91      0.89      1177\n",
            "           3       0.85      0.88      0.87      1220\n",
            "           4       0.90      0.93      0.92      1154\n",
            "           5       0.88      0.86      0.87      1115\n",
            "           6       0.96      0.94      0.95      1220\n",
            "           7       0.94      0.90      0.92      1245\n",
            "           8       0.91      0.84      0.87      1175\n",
            "           9       0.88      0.87      0.88      1189\n",
            "\n",
            "    accuracy                           0.91     12000\n",
            "   macro avg       0.91      0.91      0.91     12000\n",
            "weighted avg       0.91      0.91      0.91     12000\n",
            "\n",
            "Confusion matrix Linear SVM\n",
            "[[1178    0    3    4    0    7    8    0    5    0]\n",
            " [   0 1272   10    2    1    2    1    3    8    1]\n",
            " [   9   12 1069   26   11    5   12    9   20    4]\n",
            " [   9    0   43 1075    4   47    2    8   25    7]\n",
            " [   2    5   16    1 1075    0    7    4    0   44]\n",
            " [  14   11   15   67    5  958   18    2   20    5]\n",
            " [  11    2   16    4   16   17 1148    0    5    1]\n",
            " [   4    4   17   11   12    7    0 1124    3   63]\n",
            " [   8   21   21   64    3   47    6    7  985   13]\n",
            " [   7    4   13   11   67    4    0   36   10 1037]]\n"
          ],
          "name": "stdout"
        }
      ]
    },
    {
      "cell_type": "code",
      "metadata": {
        "id": "t0FV9rluMAnC",
        "colab_type": "code",
        "colab": {}
      },
      "source": [
        "# Hyperparameter Tuning\n",
        "# Range parameter \n",
        "param_grid = {'C': [0.1, 1,],  \n",
        "              'gamma': [1 ], \n",
        "              'kernel': ['rbf']} \n",
        "              \n",
        "# SVM linear model\n",
        "grid = GridSearchCV(SVC(), param_grid, refit = True, verbose = 3)\n",
        "grid.fit(X_train, y_train)\n"
      ],
      "execution_count": 0,
      "outputs": []
    },
    {
      "cell_type": "code",
      "metadata": {
        "id": "wX-n_l9GMNy7",
        "colab_type": "code",
        "colab": {}
      },
      "source": [
        "# Best parameter after tuning \n",
        "print(grid.best_params_) \n",
        "\n",
        "# print how our model looks after hyper-parameter tuning \n",
        "print(grid.best_estimator_) "
      ],
      "execution_count": 0,
      "outputs": []
    },
    {
      "cell_type": "code",
      "metadata": {
        "id": "Wk9BhdTeMvzw",
        "colab_type": "code",
        "colab": {}
      },
      "source": [
        "grid_predictions = grid.predict(X_test) "
      ],
      "execution_count": 0,
      "outputs": []
    },
    {
      "cell_type": "code",
      "metadata": {
        "id": "HBNeXjXSM0El",
        "colab_type": "code",
        "colab": {}
      },
      "source": [
        "print(\"EVALUATION Linear SVM\")\n",
        "print(classification_report(y_test, SVM_predic))\n",
        "\n",
        "print (\"Confusion matrix Linear SVM\")\n",
        "print(confusion_matrix(y_test, SVM_predic))"
      ],
      "execution_count": 0,
      "outputs": []
    },
    {
      "cell_type": "markdown",
      "metadata": {
        "id": "Lmyj4y-WRMKn",
        "colab_type": "text"
      },
      "source": [
        "# **Implementation of a Linear classifier using Neural Network**"
      ]
    },
    {
      "cell_type": "code",
      "metadata": {
        "id": "mY4phICNbntX",
        "colab_type": "code",
        "outputId": "e7c8f8f2-6388-49c3-8bd7-de94a1040e14",
        "colab": {
          "base_uri": "https://localhost:8080/",
          "height": 51
        }
      },
      "source": [
        "# Normalize the data \n",
        "# Normalize the pixels values from [0,255] to [-0.5, 0.5] to make our network easier to train \n",
        "\n",
        "X_train_ANN = (X_train / 255) - 0.5\n",
        "X_test_ANN = (X_test / 255) - 0.5\n",
        "\n",
        "# Flatten the images. \n",
        "# Let's flatten the images 28 X 28 into 784\n",
        "X_train_NN = X_train_NN.reshape((-1,784))\n",
        "X_test_NN = X_test_NN.reshape((-1,784))\n",
        "print(X_train_NN.shape)\n",
        "print(X_test_NN.shape)\n"
      ],
      "execution_count": 0,
      "outputs": [
        {
          "output_type": "stream",
          "text": [
            "(25200, 784)\n",
            "(12000, 784)\n"
          ],
          "name": "stdout"
        }
      ]
    },
    {
      "cell_type": "code",
      "metadata": {
        "id": "ZQLldfF91eUn",
        "colab_type": "code",
        "outputId": "093de52c-44e7-4c97-c737-6a99a8348ef3",
        "colab": {
          "base_uri": "https://localhost:8080/",
          "height": 140
        }
      },
      "source": [
        "# Building the ANN model\n",
        "# Will have 3 layers, 2 with 64 neurons and activation function = relu\n",
        "# and  1 layer with 10 neurons with activation function= softmax\n",
        "model = Sequential()\n",
        "model.add(Dense(64, activation='relu', input_dim=784))\n",
        "model.add(Dense(64, activation='relu'))\n",
        "model.add(Dense(10, activation='softmax'))"
      ],
      "execution_count": 0,
      "outputs": [
        {
          "output_type": "stream",
          "text": [
            "WARNING:tensorflow:From /usr/local/lib/python3.6/dist-packages/keras/backend/tensorflow_backend.py:66: The name tf.get_default_graph is deprecated. Please use tf.compat.v1.get_default_graph instead.\n",
            "\n",
            "WARNING:tensorflow:From /usr/local/lib/python3.6/dist-packages/keras/backend/tensorflow_backend.py:541: The name tf.placeholder is deprecated. Please use tf.compat.v1.placeholder instead.\n",
            "\n",
            "WARNING:tensorflow:From /usr/local/lib/python3.6/dist-packages/keras/backend/tensorflow_backend.py:4432: The name tf.random_uniform is deprecated. Please use tf.random.uniform instead.\n",
            "\n"
          ],
          "name": "stdout"
        }
      ]
    },
    {
      "cell_type": "code",
      "metadata": {
        "id": "kP2T7RUG3l-V",
        "colab_type": "code",
        "outputId": "96cd25ca-0a4c-4de9-f40e-451e745cdc35",
        "colab": {
          "base_uri": "https://localhost:8080/",
          "height": 106
        }
      },
      "source": [
        "#Compile the model\n",
        "# loss measures how well the model did on training, and then tries to improve on\n",
        "# it using the optimizer\n",
        "model.compile(\n",
        "  optimizer= 'adam',\n",
        "    loss = 'categorical_crossentropy', #loss function for classes > 2\n",
        "    metrics = ['accuracy']\n",
        ")"
      ],
      "execution_count": 0,
      "outputs": [
        {
          "output_type": "stream",
          "text": [
            "WARNING:tensorflow:From /usr/local/lib/python3.6/dist-packages/keras/optimizers.py:793: The name tf.train.Optimizer is deprecated. Please use tf.compat.v1.train.Optimizer instead.\n",
            "\n",
            "WARNING:tensorflow:From /usr/local/lib/python3.6/dist-packages/keras/backend/tensorflow_backend.py:3576: The name tf.log is deprecated. Please use tf.math.log instead.\n",
            "\n"
          ],
          "name": "stdout"
        }
      ]
    },
    {
      "cell_type": "code",
      "metadata": {
        "id": "CFYMJeNl3n08",
        "colab_type": "code",
        "outputId": "7e11ae82-597f-4b08-bde1-a77b8f3c30d9",
        "colab": {
          "base_uri": "https://localhost:8080/",
          "height": 551
        }
      },
      "source": [
        "#Train the model\n",
        "model.fit(\n",
        "    X_train_ANN, #The training data images\n",
        "    to_categorical(y_train),#The trainind data labels, label data only returns a single digit representing the class of each label Ex: train_labels = 2,to_categorical(2)= [0,0,1,0,0,0,0,0,0,0]\n",
        "    epochs=5, #Number of iterations over the entire data set to train on\n",
        "    batch_size = 3 #The number of samples per gradient update for training\n",
        ")"
      ],
      "execution_count": 0,
      "outputs": [
        {
          "output_type": "stream",
          "text": [
            "WARNING:tensorflow:From /usr/local/lib/python3.6/dist-packages/tensorflow_core/python/ops/math_grad.py:1424: where (from tensorflow.python.ops.array_ops) is deprecated and will be removed in a future version.\n",
            "Instructions for updating:\n",
            "Use tf.where in 2.0, which has the same broadcast rule as np.where\n",
            "WARNING:tensorflow:From /usr/local/lib/python3.6/dist-packages/keras/backend/tensorflow_backend.py:1033: The name tf.assign_add is deprecated. Please use tf.compat.v1.assign_add instead.\n",
            "\n",
            "WARNING:tensorflow:From /usr/local/lib/python3.6/dist-packages/keras/backend/tensorflow_backend.py:1020: The name tf.assign is deprecated. Please use tf.compat.v1.assign instead.\n",
            "\n",
            "WARNING:tensorflow:From /usr/local/lib/python3.6/dist-packages/keras/backend/tensorflow_backend.py:3005: The name tf.Session is deprecated. Please use tf.compat.v1.Session instead.\n",
            "\n",
            "Epoch 1/5\n",
            "WARNING:tensorflow:From /usr/local/lib/python3.6/dist-packages/keras/backend/tensorflow_backend.py:190: The name tf.get_default_session is deprecated. Please use tf.compat.v1.get_default_session instead.\n",
            "\n",
            "WARNING:tensorflow:From /usr/local/lib/python3.6/dist-packages/keras/backend/tensorflow_backend.py:197: The name tf.ConfigProto is deprecated. Please use tf.compat.v1.ConfigProto instead.\n",
            "\n",
            "WARNING:tensorflow:From /usr/local/lib/python3.6/dist-packages/keras/backend/tensorflow_backend.py:207: The name tf.global_variables is deprecated. Please use tf.compat.v1.global_variables instead.\n",
            "\n",
            "WARNING:tensorflow:From /usr/local/lib/python3.6/dist-packages/keras/backend/tensorflow_backend.py:216: The name tf.is_variable_initialized is deprecated. Please use tf.compat.v1.is_variable_initialized instead.\n",
            "\n",
            "WARNING:tensorflow:From /usr/local/lib/python3.6/dist-packages/keras/backend/tensorflow_backend.py:223: The name tf.variables_initializer is deprecated. Please use tf.compat.v1.variables_initializer instead.\n",
            "\n",
            "25200/25200 [==============================] - 18s 731us/step - loss: 0.4384 - acc: 0.8621\n",
            "Epoch 2/5\n",
            "25200/25200 [==============================] - 18s 718us/step - loss: 0.2576 - acc: 0.9192\n",
            "Epoch 3/5\n",
            "25200/25200 [==============================] - 17s 672us/step - loss: 0.2099 - acc: 0.9338\n",
            "Epoch 4/5\n",
            "25200/25200 [==============================] - 17s 693us/step - loss: 0.1854 - acc: 0.9415\n",
            "Epoch 5/5\n",
            "25200/25200 [==============================] - 18s 725us/step - loss: 0.1683 - acc: 0.9479\n"
          ],
          "name": "stdout"
        },
        {
          "output_type": "execute_result",
          "data": {
            "text/plain": [
              "<keras.callbacks.History at 0x7f4e137d7a58>"
            ]
          },
          "metadata": {
            "tags": []
          },
          "execution_count": 61
        }
      ]
    },
    {
      "cell_type": "code",
      "metadata": {
        "id": "D7Fg8_iv4-fL",
        "colab_type": "code",
        "outputId": "13629bef-d57b-4e11-fe1b-1c36c7be6bff",
        "colab": {
          "base_uri": "https://localhost:8080/",
          "height": 51
        }
      },
      "source": [
        "#Evaluate the model\n",
        "model.evaluate(\n",
        "  X_test_ANN,\n",
        "  to_categorical(y_test)\n",
        ")"
      ],
      "execution_count": 0,
      "outputs": [
        {
          "output_type": "stream",
          "text": [
            "12000/12000 [==============================] - 0s 30us/step\n"
          ],
          "name": "stdout"
        },
        {
          "output_type": "execute_result",
          "data": {
            "text/plain": [
              "[0.1841180614158511, 0.9425833333333333]"
            ]
          },
          "metadata": {
            "tags": []
          },
          "execution_count": 62
        }
      ]
    }
  ]
}